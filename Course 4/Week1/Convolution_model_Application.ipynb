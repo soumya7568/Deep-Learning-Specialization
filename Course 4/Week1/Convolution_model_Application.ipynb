{
  "cells": [
    {
      "cell_type": "markdown",
      "metadata": {
        "id": "view-in-github",
        "colab_type": "text"
      },
      "source": [
        "<a href=\"https://colab.research.google.com/github/soumya7568/Deep-Learning-Specialization/blob/main/Course%204/Week1/Convolution_model_Application.ipynb\" target=\"_parent\"><img src=\"https://colab.research.google.com/assets/colab-badge.svg\" alt=\"Open In Colab\"/></a>"
      ]
    },
    {
      "cell_type": "markdown",
      "metadata": {
        "id": "joesbGX6kyav"
      },
      "source": [
        "# Convolutional Neural Networks: Application\n",
        "\n",
        "Welcome to Course 4's second assignment! In this notebook, you will:\n",
        "\n",
        "- Create a mood classifer using the TF Keras Sequential API\n",
        "- Build a ConvNet to identify sign language digits using the TF Keras Functional API\n",
        "\n",
        "**After this assignment you will be able to:**\n",
        "\n",
        "- Build and train a ConvNet in TensorFlow for a __binary__ classification problem\n",
        "- Build and train a ConvNet in TensorFlow for a __multiclass__ classification problem\n",
        "- Explain different use cases for the Sequential and Functional APIs\n",
        "\n",
        "To complete this assignment, you should already be familiar with TensorFlow. If you are not, please refer back to the **TensorFlow Tutorial** of the third week of Course 2 (\"**Improving deep neural networks**\")."
      ]
    },
    {
      "cell_type": "markdown",
      "metadata": {
        "id": "CxZLEnTWkyax"
      },
      "source": [
        "## Table of Contents\n",
        "\n",
        "- [1 - Packages](#1)\n",
        "    - [1.1 - Load the Data and Split the Data into Train/Test Sets](#1-1)\n",
        "- [2 - Layers in TF Keras](#2)\n",
        "- [3 - The Sequential API](#3)\n",
        "    - [3.1 - Create the Sequential Model](#3-1)\n",
        "        - [Exercise 1 - happyModel](#ex-1)\n",
        "    - [3.2 - Train and Evaluate the Model](#3-2)\n",
        "- [4 - The Functional API](#4)\n",
        "    - [4.1 - Load the SIGNS Dataset](#4-1)\n",
        "    - [4.2 - Split the Data into Train/Test Sets](#4-2)\n",
        "    - [4.3 - Forward Propagation](#4-3)\n",
        "        - [Exercise 2 - convolutional_model](#ex-2)\n",
        "    - [4.4 - Train the Model](#4-4)\n",
        "- [5 - History Object](#5)\n",
        "- [6 - Bibliography](#6)"
      ]
    },
    {
      "cell_type": "markdown",
      "metadata": {
        "id": "47ugzeYtkyay"
      },
      "source": [
        "<a name='1'></a>\n",
        "## 1 - Packages\n",
        "\n",
        "As usual, begin by loading in the packages."
      ]
    },
    {
      "cell_type": "code",
      "execution_count": 1,
      "metadata": {
        "id": "Vc7DB09Skyaz"
      },
      "outputs": [],
      "source": [
        "import math\n",
        "import numpy as np\n",
        "import h5py\n",
        "import matplotlib.pyplot as plt\n",
        "from matplotlib.pyplot import imread\n",
        "import scipy\n",
        "from PIL import Image\n",
        "import pandas as pd\n",
        "import tensorflow as tf\n",
        "import tensorflow.keras.layers as tfl\n",
        "from tensorflow.python.framework import ops\n",
        "from cnn_utils import *\n",
        "from test_utils import summary, comparator\n",
        "\n",
        "%matplotlib inline\n",
        "np.random.seed(1)"
      ]
    },
    {
      "cell_type": "markdown",
      "metadata": {
        "id": "VPHrxeRckya0"
      },
      "source": [
        "<a name='1-1'></a>\n",
        "### 1.1 - Load the Data and Split the Data into Train/Test Sets\n",
        "\n",
        "You'll be using the Happy House dataset for this part of the assignment, which contains images of peoples' faces. Your task will be to build a ConvNet that determines whether the people in the images are smiling or not -- because they only get to enter the house if they're smiling!  "
      ]
    },
    {
      "cell_type": "code",
      "execution_count": 2,
      "metadata": {
        "colab": {
          "base_uri": "https://localhost:8080/"
        },
        "id": "RzAIyhZbkya0",
        "outputId": "a820b747-2f2c-4077-fcc3-30a6b4f6015d"
      },
      "outputs": [
        {
          "output_type": "stream",
          "name": "stdout",
          "text": [
            "number of training examples = 600\n",
            "number of test examples = 150\n",
            "X_train shape: (600, 64, 64, 3)\n",
            "Y_train shape: (600, 1)\n",
            "X_test shape: (150, 64, 64, 3)\n",
            "Y_test shape: (150, 1)\n"
          ]
        }
      ],
      "source": [
        "X_train_orig, Y_train_orig, X_test_orig, Y_test_orig, classes = load_happy_dataset()\n",
        "\n",
        "# Normalize image vectors\n",
        "X_train = X_train_orig/255.\n",
        "X_test = X_test_orig/255.\n",
        "\n",
        "# Reshape\n",
        "Y_train = Y_train_orig.T\n",
        "Y_test = Y_test_orig.T\n",
        "\n",
        "print (\"number of training examples = \" + str(X_train.shape[0]))\n",
        "print (\"number of test examples = \" + str(X_test.shape[0]))\n",
        "print (\"X_train shape: \" + str(X_train.shape))\n",
        "print (\"Y_train shape: \" + str(Y_train.shape))\n",
        "print (\"X_test shape: \" + str(X_test.shape))\n",
        "print (\"Y_test shape: \" + str(Y_test.shape))"
      ]
    },
    {
      "cell_type": "markdown",
      "metadata": {
        "id": "G7XPKDAvkya1"
      },
      "source": [
        "You can display the images contained in the dataset. Images are **64x64** pixels in RGB format (3 channels)."
      ]
    },
    {
      "cell_type": "code",
      "execution_count": 3,
      "metadata": {
        "colab": {
          "base_uri": "https://localhost:8080/",
          "height": 268
        },
        "id": "OxxOBXR5kya2",
        "outputId": "a60f3d65-f2ba-4670-b462-00e0dfd84f95"
      },
      "outputs": [
        {
          "output_type": "display_data",
          "data": {
            "image/png": "[encoded data removed]",
            "text/plain": [
              "<Figure size 432x288 with 1 Axes>"
            ]
          },
          "metadata": {
            "needs_background": "light"
          }
        }
      ],
      "source": [
        "index = 124\n",
        "plt.imshow(X_train_orig[index]) #display sample training image\n",
        "plt.show()"
      ]
    },
    {
      "cell_type": "markdown",
      "metadata": {
        "id": "0-p75KjOkya2"
      },
      "source": [
        "<a name='2'></a>\n",
        "## 2 - Layers in TF Keras \n",
        "\n",
        "In the previous assignment, you created layers manually in numpy. In TF Keras, you don't have to write code directly to create layers. Rather, TF Keras has pre-defined layers you can use. \n",
        "\n",
        "When you create a layer in TF Keras, you are creating a function that takes some input and transforms it into an output you can reuse later. Nice and easy! "
      ]
    },
    {
      "cell_type": "markdown",
      "metadata": {
        "id": "wmyUmecgkya3"
      },
      "source": [
        "<a name='3'></a>\n",
        "## 3 - The Sequential API\n",
        "\n",
        "In the previous assignment, you built helper functions using `numpy` to understand the mechanics behind convolutional neural networks. Most practical applications of deep learning today are built using programming frameworks, which have many built-in functions you can simply call. Keras is a high-level abstraction built on top of TensorFlow, which allows for even more simplified and optimized model creation and training. \n",
        "\n",
        "For the first part of this assignment, you'll create a model using TF Keras' Sequential API, which allows you to build layer by layer, and is ideal for building models where each layer has **exactly one** input tensor and **one** output tensor. \n",
        "\n",
        "As you'll see, using the Sequential API is simple and straightforward, but is only appropriate for simpler, more straightforward tasks. Later in this notebook you'll spend some time building with a more flexible, powerful alternative: the Functional API. \n",
        " "
      ]
    },
    {
      "cell_type": "markdown",
      "metadata": {
        "id": "cTz_S-ahkya3"
      },
      "source": [
        "<a name='3-1'></a>\n",
        "### 3.1 - Create the Sequential Model\n",
        "\n",
        "As mentioned earlier, the TensorFlow Keras Sequential API can be used to build simple models with layer operations that proceed in a sequential order. \n",
        "\n",
        "You can also add layers incrementally to a Sequential model with the `.add()` method, or remove them using the `.pop()` method, much like you would in a regular Python list.\n",
        "\n",
        "Actually, you can think of a Sequential model as behaving like a list of layers. Like Python lists, Sequential layers are ordered, and the order in which they are specified matters.  If your model is non-linear or contains layers with multiple inputs or outputs, a Sequential model wouldn't be the right choice!\n",
        "\n",
        "For any layer construction in Keras, you'll need to specify the input shape in advance. This is because in Keras, the shape of the weights is based on the shape of the inputs. The weights are only created when the model first sees some input data. Sequential models can be created by passing a list of layers to the Sequential constructor, like you will do in the next assignment.\n",
        "\n",
        "<a name='ex-1'></a>\n",
        "### Exercise 1 - happyModel\n",
        "\n",
        "Implement the `happyModel` function below to build the following model: `ZEROPAD2D -> CONV2D -> BATCHNORM -> RELU -> MAXPOOL -> FLATTEN -> DENSE`. Take help from [tf.keras.layers](https://www.tensorflow.org/api_docs/python/tf/keras/layers) \n",
        "\n",
        "Also, plug in the following parameters for all the steps:\n",
        "\n",
        " - [ZeroPadding2D](https://www.tensorflow.org/api_docs/python/tf/keras/layers/ZeroPadding2D): padding 3, input shape 64 x 64 x 3\n",
        " - [Conv2D](https://www.tensorflow.org/api_docs/python/tf/keras/layers/Conv2D): Use 32 7x7 filters, stride 1\n",
        " - [BatchNormalization](https://www.tensorflow.org/api_docs/python/tf/keras/layers/BatchNormalization): for axis 3\n",
        " - [ReLU](https://www.tensorflow.org/api_docs/python/tf/keras/layers/ReLU)\n",
        " - [MaxPool2D](https://www.tensorflow.org/api_docs/python/tf/keras/layers/MaxPool2D): Using default parameters\n",
        " - [Flatten](https://www.tensorflow.org/api_docs/python/tf/keras/layers/Flatten) the previous output.\n",
        " - Fully-connected ([Dense](https://www.tensorflow.org/api_docs/python/tf/keras/layers/Dense)) layer: Apply a fully connected layer with 1 neuron and a sigmoid activation. \n",
        " \n",
        " \n",
        " **Hint:**\n",
        " \n",
        " Use **tfl** as shorthand for **tensorflow.keras.layers**"
      ]
    },
    {
      "cell_type": "code",
      "execution_count": 4,
      "metadata": {
        "deletable": false,
        "nbgrader": {
          "cell_type": "code",
          "checksum": "95d28b191f257bdd5b70c7b8952559d5",
          "grade": false,
          "grade_id": "cell-0e56d3fc28b69aec",
          "locked": false,
          "schema_version": 3,
          "solution": true,
          "task": false
        },
        "id": "Ffu0wIkWkya4"
      },
      "outputs": [],
      "source": [
        "# GRADED FUNCTION: happyModel\n",
        "\n",
        "def happyModel():\n",
        "    \"\"\"\n",
        "    Implements the forward propagation for the binary classification model:\n",
        "    ZEROPAD2D -> CONV2D -> BATCHNORM -> RELU -> MAXPOOL -> FLATTEN -> DENSE\n",
        "    \n",
        "    Note that for simplicity and grading purposes, you'll hard-code all the values\n",
        "    such as the stride and kernel (filter) sizes. \n",
        "    Normally, functions should take these values as function parameters.\n",
        "    \n",
        "    Arguments:\n",
        "    None\n",
        "\n",
        "    Returns:\n",
        "    model -- TF Keras model (object containing the information for the entire training process) \n",
        "    \"\"\"\n",
        "    model = tf.keras.Sequential([\n",
        "            ## ZeroPadding2D with padding 3, input shape of 64 x 64 x 3\n",
        "            \n",
        "            ## Conv2D with 32 7x7 filters and stride of 1\n",
        "            \n",
        "            ## BatchNormalization for axis 3\n",
        "            \n",
        "            ## ReLU\n",
        "            \n",
        "            ## Max Pooling 2D with default parameters\n",
        "            \n",
        "            ## Flatten layer\n",
        "            \n",
        "            ## Dense layer with 1 unit for output & 'sigmoid' activation\n",
        "            \n",
        "            # YOUR CODE STARTS HERE\n",
        "            tfl.ZeroPadding2D(padding = (3,3),input_shape=(64, 64, 3), data_format=\"channels_last\"),\n",
        "        tfl.Conv2D(32,(7,7),strides = (1,1), name = 'conv0'),\n",
        "        tfl.BatchNormalization(axis = 3,name = 'bn0'),\n",
        "        tfl.ReLU(),\n",
        "        tfl.MaxPool2D(),\n",
        "        tfl.Flatten(),\n",
        "        tfl.Dense(1, activation='sigmoid', name='fc')\n",
        "            \n",
        "            # YOUR CODE ENDS HERE\n",
        "        ])\n",
        "    \n",
        "    return model"
      ]
    },
    {
      "cell_type": "code",
      "execution_count": 5,
      "metadata": {
        "deletable": false,
        "editable": false,
        "nbgrader": {
          "cell_type": "code",
          "checksum": "8d3575c950e2e78149be2d05d671c80d",
          "grade": true,
          "grade_id": "cell-e3e1046e5c33d775",
          "locked": true,
          "points": 10,
          "schema_version": 3,
          "solution": false,
          "task": false
        },
        "colab": {
          "base_uri": "https://localhost:8080/"
        },
        "id": "Kul0w-iEkya4",
        "outputId": "8a5f615f-e0d3-47f2-a016-fda890df45c3"
      },
      "outputs": [
        {
          "output_type": "stream",
          "name": "stdout",
          "text": [
            "['ZeroPadding2D', (None, 70, 70, 3), 0, ((3, 3), (3, 3))]\n",
            "['Conv2D', (None, 64, 64, 32), 4736, 'valid', 'linear', 'GlorotUniform']\n",
            "['BatchNormalization', (None, 64, 64, 32), 128]\n",
            "['ReLU', (None, 64, 64, 32), 0]\n",
            "['MaxPooling2D', (None, 32, 32, 32), 0, (2, 2), (2, 2), 'valid']\n",
            "['Flatten', (None, 32768), 0]\n",
            "['Dense', (None, 1), 32769, 'sigmoid']\n",
            "\u001b[32mAll tests passed!\u001b[0m\n"
          ]
        }
      ],
      "source": [
        "happy_model = happyModel()\n",
        "# Print a summary for each layer\n",
        "for layer in summary(happy_model):\n",
        "    print(layer)\n",
        "    \n",
        "output = [['ZeroPadding2D', (None, 70, 70, 3), 0, ((3, 3), (3, 3))],\n",
        "            ['Conv2D', (None, 64, 64, 32), 4736, 'valid', 'linear', 'GlorotUniform'],\n",
        "            ['BatchNormalization', (None, 64, 64, 32), 128],\n",
        "            ['ReLU', (None, 64, 64, 32), 0],\n",
        "            ['MaxPooling2D', (None, 32, 32, 32), 0, (2, 2), (2, 2), 'valid'],\n",
        "            ['Flatten', (None, 32768), 0],\n",
        "            ['Dense', (None, 1), 32769, 'sigmoid']]\n",
        "    \n",
        "comparator(summary(happy_model), output)"
      ]
    },
    {
      "cell_type": "markdown",
      "metadata": {
        "id": "jXqcMUmgkya5"
      },
      "source": [
        "Now that your model is created, you can compile it for training with an optimizer and loss of your choice. When the string `accuracy` is specified as a metric, the type of accuracy used will be automatically converted based on the loss function used. This is one of the many optimizations built into TensorFlow that make your life easier! If you'd like to read more on how the compiler operates, check the docs [here](https://www.tensorflow.org/api_docs/python/tf/keras/Model#compile)."
      ]
    },
    {
      "cell_type": "code",
      "execution_count": 6,
      "metadata": {
        "id": "tK33PUMjkya5"
      },
      "outputs": [],
      "source": [
        "happy_model.compile(optimizer='adam',\n",
        "                   loss='binary_crossentropy',\n",
        "                   metrics=['accuracy'])"
      ]
    },
    {
      "cell_type": "markdown",
      "metadata": {
        "id": "mjF9AaC4kya5"
      },
      "source": [
        "It's time to check your model's parameters with the `.summary()` method. This will display the types of layers you have, the shape of the outputs, and how many parameters are in each layer. "
      ]
    },
    {
      "cell_type": "code",
      "execution_count": 7,
      "metadata": {
        "colab": {
          "base_uri": "https://localhost:8080/"
        },
        "id": "daKPM4gNkya5",
        "outputId": "5e5a4b49-dbff-430a-ba7a-67d52acde783"
      },
      "outputs": [
        {
          "output_type": "stream",
          "name": "stdout",
          "text": [
            "Model: \"sequential\"\n",
            "_________________________________________________________________\n",
            " Layer (type)                Output Shape              Param #   \n",
            "=================================================================\n",
            " zero_padding2d (ZeroPadding  (None, 70, 70, 3)        0         \n",
            " 2D)                                                             \n",
            "                                                                 \n",
            " conv0 (Conv2D)              (None, 64, 64, 32)        4736      \n",
            "                                                                 \n",
            " bn0 (BatchNormalization)    (None, 64, 64, 32)        128       \n",
            "                                                                 \n",
            " re_lu (ReLU)                (None, 64, 64, 32)        0         \n",
            "                                                                 \n",
            " max_pooling2d (MaxPooling2D  (None, 32, 32, 32)       0         \n",
            " )                                                               \n",
            "                                                                 \n",
            " flatten (Flatten)           (None, 32768)             0         \n",
            "                                                                 \n",
            " fc (Dense)                  (None, 1)                 32769     \n",
            "                                                                 \n",
            "=================================================================\n",
            "Total params: 37,633\n",
            "Trainable params: 37,569\n",
            "Non-trainable params: 64\n",
            "_________________________________________________________________\n"
          ]
        }
      ],
      "source": [
        "happy_model.summary()"
      ]
    },
    {
      "cell_type": "markdown",
      "metadata": {
        "id": "soQcC2A_kya6"
      },
      "source": [
        "<a name='3-2'></a>\n",
        "### 3.2 - Train and Evaluate the Model\n",
        "\n",
        "After creating the model, compiling it with your choice of optimizer and loss function, and doing a sanity check on its contents, you are now ready to build! \n",
        "\n",
        "Simply call `.fit()` to train. That's it! No need for mini-batching, saving, or complex backpropagation computations. That's all been done for you, as you're using a TensorFlow dataset with the batches specified already. You do have the option to specify epoch number or minibatch size if you like (for example, in the case of an un-batched dataset)."
      ]
    },
    {
      "cell_type": "code",
      "execution_count": 8,
      "metadata": {
        "colab": {
          "base_uri": "https://localhost:8080/"
        },
        "id": "tYMuG1Uckya6",
        "outputId": "869bd56c-4d71-4461-a9bd-0b98741b308a"
      },
      "outputs": [
        {
          "output_type": "stream",
          "name": "stdout",
          "text": [
            "Epoch 1/10\n",
            "38/38 [==============================] - 5s 113ms/step - loss: 1.1580 - accuracy: 0.7033\n",
            "Epoch 2/10\n",
            "38/38 [==============================] - 4s 113ms/step - loss: 0.2014 - accuracy: 0.9300\n",
            "Epoch 3/10\n",
            "38/38 [==============================] - 4s 113ms/step - loss: 0.2101 - accuracy: 0.9133\n",
            "Epoch 4/10\n",
            "38/38 [==============================] - 4s 113ms/step - loss: 0.1658 - accuracy: 0.9467\n",
            "Epoch 5/10\n",
            "38/38 [==============================] - 4s 111ms/step - loss: 0.1187 - accuracy: 0.9550\n",
            "Epoch 6/10\n",
            "38/38 [==============================] - 4s 109ms/step - loss: 0.1150 - accuracy: 0.9700\n",
            "Epoch 7/10\n",
            "38/38 [==============================] - 4s 108ms/step - loss: 0.2163 - accuracy: 0.9217\n",
            "Epoch 8/10\n",
            "38/38 [==============================] - 4s 108ms/step - loss: 0.0731 - accuracy: 0.9700\n",
            "Epoch 9/10\n",
            "38/38 [==============================] - 4s 110ms/step - loss: 0.1082 - accuracy: 0.9583\n",
            "Epoch 10/10\n",
            "38/38 [==============================] - 4s 110ms/step - loss: 0.0664 - accuracy: 0.9767\n"
          ]
        },
        {
          "output_type": "execute_result",
          "data": {
            "text/plain": [
              "<keras.callbacks.History at 0x7fcf398bda90>"
            ]
          },
          "metadata": {},
          "execution_count": 8
        }
      ],
      "source": [
        "happy_model.fit(X_train, Y_train, epochs=10, batch_size=16)"
      ]
    },
    {
      "cell_type": "markdown",
      "metadata": {
        "id": "YQrJhe-okya6"
      },
      "source": [
        "After that completes, just use `.evaluate()` to evaluate against your test set. This function will print the value of the loss function and the performance metrics specified during the compilation of the model. In this case, the `binary_crossentropy` and the `accuracy` respectively."
      ]
    },
    {
      "cell_type": "code",
      "execution_count": 9,
      "metadata": {
        "colab": {
          "base_uri": "https://localhost:8080/"
        },
        "id": "RblXY5mikya6",
        "outputId": "6501e6b4-e92f-4ad9-ce8a-ed7513e2b12a"
      },
      "outputs": [
        {
          "output_type": "stream",
          "name": "stdout",
          "text": [
            "5/5 [==============================] - 0s 54ms/step - loss: 0.2997 - accuracy: 0.8800\n"
          ]
        },
        {
          "output_type": "execute_result",
          "data": {
            "text/plain": [
              "[0.29972290992736816, 0.8799999952316284]"
            ]
          },
          "metadata": {},
          "execution_count": 9
        }
      ],
      "source": [
        "happy_model.evaluate(X_test, Y_test)"
      ]
    },
    {
      "cell_type": "markdown",
      "metadata": {
        "id": "sSSDmgxvkya7"
      },
      "source": [
        "Easy, right? But what if you need to build a model with shared layers, branches, or multiple inputs and outputs? This is where Sequential, with its beautifully simple yet limited functionality, won't be able to help you. \n",
        "\n",
        "Next up: Enter the Functional API, your slightly more complex, highly flexible friend.  "
      ]
    },
    {
      "cell_type": "markdown",
      "metadata": {
        "id": "arLY_Xzdkya7"
      },
      "source": [
        "<a name='4'></a>\n",
        "## 4 - The Functional API"
      ]
    },
    {
      "cell_type": "markdown",
      "metadata": {
        "id": "D4KKbucakya7"
      },
      "source": [
        "Welcome to the second half of the assignment, where you'll use Keras' flexible [Functional API](https://www.tensorflow.org/guide/keras/functional) to build a ConvNet that can differentiate between 6 sign language digits. \n",
        "\n",
        "The Functional API can handle models with non-linear topology, shared layers, as well as layers with multiple inputs or outputs. Imagine that, where the Sequential API requires the model to move in a linear fashion through its layers, the Functional API allows much more flexibility. Where Sequential is a straight line, a Functional model is a graph, where the nodes of the layers can connect in many more ways than one. \n",
        "\n",
        "In the visual example below, the one possible direction of the movement Sequential model is shown in contrast to a skip connection, which is just one of the many ways a Functional model can be constructed. A skip connection, as you might have guessed, skips some layer in the network and feeds the output to a later layer in the network. Don't worry, you'll be spending more time with skip connections very soon! "
      ]
    },
    {
      "cell_type": "markdown",
      "metadata": {
        "id": "chOnhWyQkya7"
      },
      "source": [
        "<img src=\"images/seq_vs_func.png\" style=\"width:350px;height:200px;\">"
      ]
    },
    {
      "cell_type": "markdown",
      "metadata": {
        "id": "Ky9NlqMbkya7"
      },
      "source": [
        "<a name='4-1'></a>\n",
        "### 4.1 - Load the SIGNS Dataset\n",
        "\n",
        "As a reminder, the SIGNS dataset is a collection of 6 signs representing numbers from 0 to 5."
      ]
    },
    {
      "cell_type": "code",
      "execution_count": 10,
      "metadata": {
        "id": "uWdDwWwakya8"
      },
      "outputs": [],
      "source": [
        "# Loading the data (signs)\n",
        "X_train_orig, Y_train_orig, X_test_orig, Y_test_orig, classes = load_signs_dataset()"
      ]
    },
    {
      "cell_type": "markdown",
      "metadata": {
        "id": "a4EccrICkya8"
      },
      "source": [
        "<img src=\"images/SIGNS.png\" style=\"width:800px;height:300px;\">\n",
        "\n",
        "The next cell will show you an example of a labelled image in the dataset. Feel free to change the value of `index` below and re-run to see different examples. "
      ]
    },
    {
      "cell_type": "code",
      "execution_count": 11,
      "metadata": {
        "colab": {
          "base_uri": "https://localhost:8080/",
          "height": 286
        },
        "id": "ZqD65igfkya8",
        "outputId": "11fc169f-0a4f-465a-dbdc-7c2d894b4fb0"
      },
      "outputs": [
        {
          "output_type": "stream",
          "name": "stdout",
          "text": [
            "y = 4\n"
          ]
        },
        {
          "output_type": "display_data",
          "data": {
            "image/png": "[encoded data removed]",
            "text/plain": [
              "<Figure size 432x288 with 1 Axes>"
            ]
          },
          "metadata": {
            "needs_background": "light"
          }
        }
      ],
      "source": [
        "# Example of an image from the dataset\n",
        "index = 9\n",
        "plt.imshow(X_train_orig[index])\n",
        "print (\"y = \" + str(np.squeeze(Y_train_orig[:, index])))"
      ]
    },
    {
      "cell_type": "markdown",
      "metadata": {
        "id": "qn2Ku6gHkya8"
      },
      "source": [
        "<a name='4-2'></a>\n",
        "### 4.2 - Split the Data into Train/Test Sets\n",
        "\n",
        "In Course 2, you built a fully-connected network for this dataset. But since this is an image dataset, it is more natural to apply a ConvNet to it.\n",
        "\n",
        "To get started, let's examine the shapes of your data. "
      ]
    },
    {
      "cell_type": "code",
      "execution_count": 12,
      "metadata": {
        "colab": {
          "base_uri": "https://localhost:8080/"
        },
        "id": "5kQG17rqkya8",
        "outputId": "c33db5e9-48c8-4cf7-d218-0b8b7e77265d"
      },
      "outputs": [
        {
          "output_type": "stream",
          "name": "stdout",
          "text": [
            "number of training examples = 1080\n",
            "number of test examples = 120\n",
            "X_train shape: (1080, 64, 64, 3)\n",
            "Y_train shape: (1080, 6)\n",
            "X_test shape: (120, 64, 64, 3)\n",
            "Y_test shape: (120, 6)\n"
          ]
        }
      ],
      "source": [
        "X_train = X_train_orig/255.\n",
        "X_test = X_test_orig/255.\n",
        "Y_train = convert_to_one_hot(Y_train_orig, 6).T\n",
        "Y_test = convert_to_one_hot(Y_test_orig, 6).T\n",
        "print (\"number of training examples = \" + str(X_train.shape[0]))\n",
        "print (\"number of test examples = \" + str(X_test.shape[0]))\n",
        "print (\"X_train shape: \" + str(X_train.shape))\n",
        "print (\"Y_train shape: \" + str(Y_train.shape))\n",
        "print (\"X_test shape: \" + str(X_test.shape))\n",
        "print (\"Y_test shape: \" + str(Y_test.shape))"
      ]
    },
    {
      "cell_type": "markdown",
      "metadata": {
        "id": "B9bThIjZkya8"
      },
      "source": [
        "<a name='4-3'></a>\n",
        "### 4.3 - Forward Propagation\n",
        "\n",
        "In TensorFlow, there are built-in functions that implement the convolution steps for you. By now, you should be familiar with how TensorFlow builds computational graphs. In the [Functional API](https://www.tensorflow.org/guide/keras/functional), you create a graph of layers. This is what allows such great flexibility.\n",
        "\n",
        "However, the following model could also be defined using the Sequential API since the information flow is on a single line. But don't deviate. What we want you to learn is to use the functional API.\n",
        "\n",
        "Begin building your graph of layers by creating an input node that functions as a callable object:\n",
        "\n",
        "- **input_img = tf.keras.Input(shape=input_shape):** \n",
        "\n",
        "Then, create a new node in the graph of layers by calling a layer on the `input_img` object: \n",
        "\n",
        "- **tf.keras.layers.Conv2D(filters= ... , kernel_size= ... , padding='same')(input_img):** Read the full documentation on [Conv2D](https://www.tensorflow.org/api_docs/python/tf/keras/layers/Conv2D).\n",
        "\n",
        "- **tf.keras.layers.MaxPool2D(pool_size=(f, f), strides=(s, s), padding='same'):** `MaxPool2D()` downsamples your input using a window of size (f, f) and strides of size (s, s) to carry out max pooling over each window.  For max pooling, you usually operate on a single example at a time and a single channel at a time. Read the full documentation on [MaxPool2D](https://www.tensorflow.org/api_docs/python/tf/keras/layers/MaxPool2D).\n",
        "\n",
        "- **tf.keras.layers.ReLU():** computes the elementwise ReLU of Z (which can be any shape). You can read the full documentation on [ReLU](https://www.tensorflow.org/api_docs/python/tf/keras/layers/ReLU).\n",
        "\n",
        "- **tf.keras.layers.Flatten()**: given a tensor \"P\", this function takes each training (or test) example in the batch and flattens it into a 1D vector.  \n",
        "\n",
        "    * If a tensor P has the shape (batch_size,h,w,c), it returns a flattened tensor with shape (batch_size, k), where $k=h \\times w \\times c$.  \"k\" equals the product of all the dimension sizes other than the first dimension.\n",
        "    \n",
        "    * For example, given a tensor with dimensions [100, 2, 3, 4], it flattens the tensor to be of shape [100, 24], where 24 = 2 * 3 * 4.  You can read the full documentation on [Flatten](https://www.tensorflow.org/api_docs/python/tf/keras/layers/Flatten).\n",
        "\n",
        "- **tf.keras.layers.Dense(units= ... , activation='softmax')(F):** given the flattened input F, it returns the output computed using a fully connected layer. You can read the full documentation on [Dense](https://www.tensorflow.org/api_docs/python/tf/keras/layers/Dense).\n",
        "\n",
        "In the last function above (`tf.keras.layers.Dense()`), the fully connected layer automatically initializes weights in the graph and keeps on training them as you train the model. Hence, you did not need to initialize those weights when initializing the parameters.\n",
        "\n",
        "Lastly, before creating the model, you'll need to define the output using the last of the function's compositions (in this example, a Dense layer): \n",
        "\n",
        "- **outputs = tf.keras.layers.Dense(units=6, activation='softmax')(F)**\n",
        "\n",
        "\n",
        "#### Window, kernel, filter, pool\n",
        "\n",
        "The words \"kernel\" and \"filter\" are used to refer to the same thing. The word \"filter\" accounts for the amount of \"kernels\" that will be used in a single convolution layer. \"Pool\" is the name of the operation that takes the max or average value of the kernels. \n",
        "\n",
        "This is why the parameter `pool_size` refers to `kernel_size`, and you use `(f,f)` to refer to the filter size. \n",
        "\n",
        "Pool size and kernel size refer to the same thing in different objects - They refer to the shape of the window where the operation takes place. "
      ]
    },
    {
      "cell_type": "markdown",
      "metadata": {
        "id": "e_84bLc0kya9"
      },
      "source": [
        "<a name='ex-2'></a>\n",
        "### Exercise 2 - convolutional_model\n",
        "\n",
        "Implement the `convolutional_model` function below to build the following model: `CONV2D -> RELU -> MAXPOOL -> CONV2D -> RELU -> MAXPOOL -> FLATTEN -> DENSE`. Use the functions above! \n",
        "\n",
        "Also, plug in the following parameters for all the steps:\n",
        "\n",
        " - [Conv2D](https://www.tensorflow.org/api_docs/python/tf/keras/layers/Conv2D): Use 8 4 by 4 filters, stride 1, padding is \"SAME\"\n",
        " - [ReLU](https://www.tensorflow.org/api_docs/python/tf/keras/layers/ReLU)\n",
        " - [MaxPool2D](https://www.tensorflow.org/api_docs/python/tf/keras/layers/MaxPool2D): Use an 8 by 8 filter size and an 8 by 8 stride, padding is \"SAME\"\n",
        " - **Conv2D**: Use 16 2 by 2 filters, stride 1, padding is \"SAME\"\n",
        " - **ReLU**\n",
        " - **MaxPool2D**: Use a 4 by 4 filter size and a 4 by 4 stride, padding is \"SAME\"\n",
        " - [Flatten](https://www.tensorflow.org/api_docs/python/tf/keras/layers/Flatten) the previous output.\n",
        " - Fully-connected ([Dense](https://www.tensorflow.org/api_docs/python/tf/keras/layers/Dense)) layer: Apply a fully connected layer with 6 neurons and a softmax activation. "
      ]
    },
    {
      "cell_type": "code",
      "execution_count": 13,
      "metadata": {
        "deletable": false,
        "nbgrader": {
          "cell_type": "code",
          "checksum": "f58643806aa8380c96225fc8b4c5e7aa",
          "grade": false,
          "grade_id": "cell-dac51744a9e03f51",
          "locked": false,
          "schema_version": 3,
          "solution": true,
          "task": false
        },
        "id": "LYqEUBsjkya9"
      },
      "outputs": [],
      "source": [
        "# GRADED FUNCTION: convolutional_model\n",
        "\n",
        "def convolutional_model(input_shape):\n",
        "    \"\"\"\n",
        "    Implements the forward propagation for the model:\n",
        "    CONV2D -> RELU -> MAXPOOL -> CONV2D -> RELU -> MAXPOOL -> FLATTEN -> DENSE\n",
        "    \n",
        "    Note that for simplicity and grading purposes, you'll hard-code some values\n",
        "    such as the stride and kernel (filter) sizes. \n",
        "    Normally, functions should take these values as function parameters.\n",
        "    \n",
        "    Arguments:\n",
        "    input_img -- input dataset, of shape (input_shape)\n",
        "\n",
        "    Returns:\n",
        "    model -- TF Keras model (object containing the information for the entire training process) \n",
        "    \"\"\"\n",
        "\n",
        "    input_img = tf.keras.Input(shape=input_shape)\n",
        "    ## CONV2D: 8 filters 4x4, stride of 1, padding 'SAME'\n",
        "    # Z1 = None\n",
        "    ## RELU\n",
        "    # A1 = None\n",
        "    ## MAXPOOL: window 8x8, stride 8, padding 'SAME'\n",
        "    # P1 = None\n",
        "    ## CONV2D: 16 filters 2x2, stride 1, padding 'SAME'\n",
        "    # Z2 = None\n",
        "    ## RELU\n",
        "    # A2 = None\n",
        "    ## MAXPOOL: window 4x4, stride 4, padding 'SAME'\n",
        "    # P2 = None\n",
        "    ## FLATTEN\n",
        "    # F = None\n",
        "    ## Dense layer\n",
        "    ## 6 neurons in output layer. Hint: one of the arguments should be \"activation='softmax'\" \n",
        "    # outputs = None\n",
        "    # YOUR CODE STARTS HERE\n",
        "    Z1 = tfl.Conv2D(8, (4,4),strides = (1,1),padding = 'same')(input_img)\n",
        "    A1 = tfl.ReLU()(Z1)\n",
        "    P1 = tfl.MaxPool2D(pool_size = (8,8),strides = (8,8),padding = 'same')(A1)\n",
        "    Z2 = tfl.Conv2D(16, (2,2),strides = (1,1),padding = 'same')(P1)\n",
        "    A2 = tfl.ReLU()(Z2)\n",
        "    P2 = tfl.MaxPool2D(pool_size = (4,4),strides = (4,4),padding = 'same')(A2)\n",
        "    F = tfl.Flatten()(P2)\n",
        "    outputs = tfl.Dense(units = 6, activation = 'softmax')(F)\n",
        "    \n",
        "    # YOUR CODE ENDS HERE\n",
        "    model = tf.keras.Model(inputs=input_img, outputs=outputs)\n",
        "    return model"
      ]
    },
    {
      "cell_type": "code",
      "execution_count": 14,
      "metadata": {
        "deletable": false,
        "editable": false,
        "nbgrader": {
          "cell_type": "code",
          "checksum": "483d626949930a0b0ef20997e7c6ba72",
          "grade": true,
          "grade_id": "cell-45d22e92042174c9",
          "locked": true,
          "points": 10,
          "schema_version": 3,
          "solution": false,
          "task": false
        },
        "colab": {
          "base_uri": "https://localhost:8080/"
        },
        "id": "plNcnp-Skya9",
        "outputId": "20a8f629-d0e7-435e-caab-c1b7615346a6"
      },
      "outputs": [
        {
          "output_type": "stream",
          "name": "stdout",
          "text": [
            "Model: \"model\"\n",
            "_________________________________________________________________\n",
            " Layer (type)                Output Shape              Param #   \n",
            "=================================================================\n",
            " input_1 (InputLayer)        [(None, 64, 64, 3)]       0         \n",
            "                                                                 \n",
            " conv2d (Conv2D)             (None, 64, 64, 8)         392       \n",
            "                                                                 \n",
            " re_lu_1 (ReLU)              (None, 64, 64, 8)         0         \n",
            "                                                                 \n",
            " max_pooling2d_1 (MaxPooling  (None, 8, 8, 8)          0         \n",
            " 2D)                                                             \n",
            "                                                                 \n",
            " conv2d_1 (Conv2D)           (None, 8, 8, 16)          528       \n",
            "                                                                 \n",
            " re_lu_2 (ReLU)              (None, 8, 8, 16)          0         \n",
            "                                                                 \n",
            " max_pooling2d_2 (MaxPooling  (None, 2, 2, 16)         0         \n",
            " 2D)                                                             \n",
            "                                                                 \n",
            " flatten_1 (Flatten)         (None, 64)                0         \n",
            "                                                                 \n",
            " dense (Dense)               (None, 6)                 390       \n",
            "                                                                 \n",
            "=================================================================\n",
            "Total params: 1,310\n",
            "Trainable params: 1,310\n",
            "Non-trainable params: 0\n",
            "_________________________________________________________________\n",
            "\u001b[32mAll tests passed!\u001b[0m\n"
          ]
        }
      ],
      "source": [
        "conv_model = convolutional_model((64, 64, 3))\n",
        "conv_model.compile(optimizer='adam',\n",
        "                  loss='categorical_crossentropy',\n",
        "                  metrics=['accuracy'])\n",
        "conv_model.summary()\n",
        "    \n",
        "output = [['InputLayer', [(None, 64, 64, 3)], 0],\n",
        "        ['Conv2D', (None, 64, 64, 8), 392, 'same', 'linear', 'GlorotUniform'],\n",
        "        ['ReLU', (None, 64, 64, 8), 0],\n",
        "        ['MaxPooling2D', (None, 8, 8, 8), 0, (8, 8), (8, 8), 'same'],\n",
        "        ['Conv2D', (None, 8, 8, 16), 528, 'same', 'linear', 'GlorotUniform'],\n",
        "        ['ReLU', (None, 8, 8, 16), 0],\n",
        "        ['MaxPooling2D', (None, 2, 2, 16), 0, (4, 4), (4, 4), 'same'],\n",
        "        ['Flatten', (None, 64), 0],\n",
        "        ['Dense', (None, 6), 390, 'softmax']]\n",
        "    \n",
        "comparator(summary(conv_model), output)"
      ]
    },
    {
      "cell_type": "markdown",
      "metadata": {
        "id": "mvQaYF4_kya9"
      },
      "source": [
        "Both the Sequential and Functional APIs return a TF Keras model object. The only difference is how inputs are handled inside the object model! "
      ]
    },
    {
      "cell_type": "markdown",
      "metadata": {
        "id": "YpxMGXVDkya-"
      },
      "source": [
        "<a name='4-4'></a>\n",
        "### 4.4 - Train the Model"
      ]
    },
    {
      "cell_type": "code",
      "execution_count": 15,
      "metadata": {
        "colab": {
          "base_uri": "https://localhost:8080/"
        },
        "id": "9pN4WUkokya-",
        "outputId": "0cd685ac-76f4-43ff-80a5-9636a4bf8eb4"
      },
      "outputs": [
        {
          "output_type": "stream",
          "name": "stdout",
          "text": [
            "Epoch 1/100\n",
            "17/17 [==============================] - 3s 121ms/step - loss: 1.8290 - accuracy: 0.1713 - val_loss: 1.8019 - val_accuracy: 0.1833\n",
            "Epoch 2/100\n",
            "17/17 [==============================] - 2s 113ms/step - loss: 1.7940 - accuracy: 0.1991 - val_loss: 1.7947 - val_accuracy: 0.1083\n",
            "Epoch 3/100\n",
            "17/17 [==============================] - 2s 111ms/step - loss: 1.7874 - accuracy: 0.1833 - val_loss: 1.7877 - val_accuracy: 0.1417\n",
            "Epoch 4/100\n",
            "17/17 [==============================] - 2s 111ms/step - loss: 1.7802 - accuracy: 0.2204 - val_loss: 1.7804 - val_accuracy: 0.1500\n",
            "Epoch 5/100\n",
            "17/17 [==============================] - 2s 113ms/step - loss: 1.7736 - accuracy: 0.2500 - val_loss: 1.7743 - val_accuracy: 0.1917\n",
            "Epoch 6/100\n",
            "17/17 [==============================] - 2s 111ms/step - loss: 1.7652 - accuracy: 0.2935 - val_loss: 1.7667 - val_accuracy: 0.2250\n",
            "Epoch 7/100\n",
            "17/17 [==============================] - 2s 112ms/step - loss: 1.7557 - accuracy: 0.3213 - val_loss: 1.7575 - val_accuracy: 0.2667\n",
            "Epoch 8/100\n",
            "17/17 [==============================] - 2s 111ms/step - loss: 1.7443 - accuracy: 0.3648 - val_loss: 1.7472 - val_accuracy: 0.3167\n",
            "Epoch 9/100\n",
            "17/17 [==============================] - 2s 111ms/step - loss: 1.7298 - accuracy: 0.3759 - val_loss: 1.7338 - val_accuracy: 0.3333\n",
            "Epoch 10/100\n",
            "17/17 [==============================] - 2s 111ms/step - loss: 1.7113 - accuracy: 0.3889 - val_loss: 1.7173 - val_accuracy: 0.3750\n",
            "Epoch 11/100\n",
            "17/17 [==============================] - 2s 109ms/step - loss: 1.6915 - accuracy: 0.4046 - val_loss: 1.6981 - val_accuracy: 0.3833\n",
            "Epoch 12/100\n",
            "17/17 [==============================] - 2s 111ms/step - loss: 1.6666 - accuracy: 0.4157 - val_loss: 1.6760 - val_accuracy: 0.3750\n",
            "Epoch 13/100\n",
            "17/17 [==============================] - 2s 110ms/step - loss: 1.6370 - accuracy: 0.4306 - val_loss: 1.6507 - val_accuracy: 0.3917\n",
            "Epoch 14/100\n",
            "17/17 [==============================] - 2s 110ms/step - loss: 1.6039 - accuracy: 0.4370 - val_loss: 1.6220 - val_accuracy: 0.3667\n",
            "Epoch 15/100\n",
            "17/17 [==============================] - 2s 109ms/step - loss: 1.5681 - accuracy: 0.4611 - val_loss: 1.5941 - val_accuracy: 0.3833\n",
            "Epoch 16/100\n",
            "17/17 [==============================] - 2s 112ms/step - loss: 1.5302 - accuracy: 0.4657 - val_loss: 1.5597 - val_accuracy: 0.3833\n",
            "Epoch 17/100\n",
            "17/17 [==============================] - 2s 111ms/step - loss: 1.4929 - accuracy: 0.4648 - val_loss: 1.5299 - val_accuracy: 0.4083\n",
            "Epoch 18/100\n",
            "17/17 [==============================] - 2s 110ms/step - loss: 1.4555 - accuracy: 0.4778 - val_loss: 1.4966 - val_accuracy: 0.4250\n",
            "Epoch 19/100\n",
            "17/17 [==============================] - 2s 111ms/step - loss: 1.4188 - accuracy: 0.4861 - val_loss: 1.4638 - val_accuracy: 0.4333\n",
            "Epoch 20/100\n",
            "17/17 [==============================] - 2s 109ms/step - loss: 1.3824 - accuracy: 0.5009 - val_loss: 1.4273 - val_accuracy: 0.4833\n",
            "Epoch 21/100\n",
            "17/17 [==============================] - 2s 112ms/step - loss: 1.3478 - accuracy: 0.5157 - val_loss: 1.3936 - val_accuracy: 0.5083\n",
            "Epoch 22/100\n",
            "17/17 [==============================] - 2s 113ms/step - loss: 1.3145 - accuracy: 0.5343 - val_loss: 1.3583 - val_accuracy: 0.5000\n",
            "Epoch 23/100\n",
            "17/17 [==============================] - 2s 109ms/step - loss: 1.2814 - accuracy: 0.5426 - val_loss: 1.3236 - val_accuracy: 0.5250\n",
            "Epoch 24/100\n",
            "17/17 [==============================] - 2s 110ms/step - loss: 1.2494 - accuracy: 0.5620 - val_loss: 1.2914 - val_accuracy: 0.5083\n",
            "Epoch 25/100\n",
            "17/17 [==============================] - 2s 109ms/step - loss: 1.2209 - accuracy: 0.5685 - val_loss: 1.2586 - val_accuracy: 0.5250\n",
            "Epoch 26/100\n",
            "17/17 [==============================] - 2s 110ms/step - loss: 1.1876 - accuracy: 0.5759 - val_loss: 1.2271 - val_accuracy: 0.5500\n",
            "Epoch 27/100\n",
            "17/17 [==============================] - 2s 108ms/step - loss: 1.1578 - accuracy: 0.5972 - val_loss: 1.1952 - val_accuracy: 0.5583\n",
            "Epoch 28/100\n",
            "17/17 [==============================] - 2s 109ms/step - loss: 1.1326 - accuracy: 0.6019 - val_loss: 1.1651 - val_accuracy: 0.5667\n",
            "Epoch 29/100\n",
            "17/17 [==============================] - 2s 111ms/step - loss: 1.1049 - accuracy: 0.6148 - val_loss: 1.1415 - val_accuracy: 0.5500\n",
            "Epoch 30/100\n",
            "17/17 [==============================] - 2s 111ms/step - loss: 1.0781 - accuracy: 0.6185 - val_loss: 1.1141 - val_accuracy: 0.5417\n",
            "Epoch 31/100\n",
            "17/17 [==============================] - 2s 112ms/step - loss: 1.0531 - accuracy: 0.6259 - val_loss: 1.0930 - val_accuracy: 0.5583\n",
            "Epoch 32/100\n",
            "17/17 [==============================] - 2s 112ms/step - loss: 1.0249 - accuracy: 0.6370 - val_loss: 1.0748 - val_accuracy: 0.5750\n",
            "Epoch 33/100\n",
            "17/17 [==============================] - 2s 112ms/step - loss: 1.0012 - accuracy: 0.6472 - val_loss: 1.0511 - val_accuracy: 0.5833\n",
            "Epoch 34/100\n",
            "17/17 [==============================] - 2s 111ms/step - loss: 0.9801 - accuracy: 0.6565 - val_loss: 1.0370 - val_accuracy: 0.5667\n",
            "Epoch 35/100\n",
            "17/17 [==============================] - 2s 113ms/step - loss: 0.9588 - accuracy: 0.6648 - val_loss: 1.0197 - val_accuracy: 0.5917\n",
            "Epoch 36/100\n",
            "17/17 [==============================] - 2s 114ms/step - loss: 0.9419 - accuracy: 0.6769 - val_loss: 1.0025 - val_accuracy: 0.5750\n",
            "Epoch 37/100\n",
            "17/17 [==============================] - 2s 112ms/step - loss: 0.9227 - accuracy: 0.6861 - val_loss: 0.9895 - val_accuracy: 0.5833\n",
            "Epoch 38/100\n",
            "17/17 [==============================] - 2s 112ms/step - loss: 0.9064 - accuracy: 0.6935 - val_loss: 0.9772 - val_accuracy: 0.5833\n",
            "Epoch 39/100\n",
            "17/17 [==============================] - 2s 112ms/step - loss: 0.8911 - accuracy: 0.6972 - val_loss: 0.9674 - val_accuracy: 0.6083\n",
            "Epoch 40/100\n",
            "17/17 [==============================] - 2s 114ms/step - loss: 0.8772 - accuracy: 0.7019 - val_loss: 0.9536 - val_accuracy: 0.6083\n",
            "Epoch 41/100\n",
            "17/17 [==============================] - 2s 113ms/step - loss: 0.8616 - accuracy: 0.7120 - val_loss: 0.9447 - val_accuracy: 0.6083\n",
            "Epoch 42/100\n",
            "17/17 [==============================] - 2s 114ms/step - loss: 0.8497 - accuracy: 0.7157 - val_loss: 0.9366 - val_accuracy: 0.6250\n",
            "Epoch 43/100\n",
            "17/17 [==============================] - 2s 113ms/step - loss: 0.8379 - accuracy: 0.7176 - val_loss: 0.9300 - val_accuracy: 0.6167\n",
            "Epoch 44/100\n",
            "17/17 [==============================] - 2s 118ms/step - loss: 0.8264 - accuracy: 0.7250 - val_loss: 0.9186 - val_accuracy: 0.6250\n",
            "Epoch 45/100\n",
            "17/17 [==============================] - 2s 116ms/step - loss: 0.8144 - accuracy: 0.7296 - val_loss: 0.9135 - val_accuracy: 0.6167\n",
            "Epoch 46/100\n",
            "17/17 [==============================] - 2s 116ms/step - loss: 0.8039 - accuracy: 0.7352 - val_loss: 0.9036 - val_accuracy: 0.6333\n",
            "Epoch 47/100\n",
            "17/17 [==============================] - 2s 115ms/step - loss: 0.7925 - accuracy: 0.7361 - val_loss: 0.8971 - val_accuracy: 0.6250\n",
            "Epoch 48/100\n",
            "17/17 [==============================] - 2s 113ms/step - loss: 0.7827 - accuracy: 0.7444 - val_loss: 0.8892 - val_accuracy: 0.6333\n",
            "Epoch 49/100\n",
            "17/17 [==============================] - 2s 115ms/step - loss: 0.7737 - accuracy: 0.7426 - val_loss: 0.8818 - val_accuracy: 0.6250\n",
            "Epoch 50/100\n",
            "17/17 [==============================] - 2s 114ms/step - loss: 0.7635 - accuracy: 0.7509 - val_loss: 0.8726 - val_accuracy: 0.6333\n",
            "Epoch 51/100\n",
            "17/17 [==============================] - 2s 115ms/step - loss: 0.7540 - accuracy: 0.7556 - val_loss: 0.8667 - val_accuracy: 0.6500\n",
            "Epoch 52/100\n",
            "17/17 [==============================] - 2s 112ms/step - loss: 0.7437 - accuracy: 0.7620 - val_loss: 0.8578 - val_accuracy: 0.6417\n",
            "Epoch 53/100\n",
            "17/17 [==============================] - 2s 111ms/step - loss: 0.7342 - accuracy: 0.7731 - val_loss: 0.8526 - val_accuracy: 0.6667\n",
            "Epoch 54/100\n",
            "17/17 [==============================] - 2s 114ms/step - loss: 0.7256 - accuracy: 0.7750 - val_loss: 0.8442 - val_accuracy: 0.6667\n",
            "Epoch 55/100\n",
            "17/17 [==============================] - 2s 112ms/step - loss: 0.7164 - accuracy: 0.7787 - val_loss: 0.8401 - val_accuracy: 0.6667\n",
            "Epoch 56/100\n",
            "17/17 [==============================] - 2s 113ms/step - loss: 0.7080 - accuracy: 0.7778 - val_loss: 0.8319 - val_accuracy: 0.6667\n",
            "Epoch 57/100\n",
            "17/17 [==============================] - 2s 113ms/step - loss: 0.6992 - accuracy: 0.7833 - val_loss: 0.8279 - val_accuracy: 0.6667\n",
            "Epoch 58/100\n",
            "17/17 [==============================] - 2s 115ms/step - loss: 0.6909 - accuracy: 0.7852 - val_loss: 0.8209 - val_accuracy: 0.6667\n",
            "Epoch 59/100\n",
            "17/17 [==============================] - 2s 114ms/step - loss: 0.6823 - accuracy: 0.7870 - val_loss: 0.8155 - val_accuracy: 0.6750\n",
            "Epoch 60/100\n",
            "17/17 [==============================] - 2s 114ms/step - loss: 0.6738 - accuracy: 0.7917 - val_loss: 0.8101 - val_accuracy: 0.6833\n",
            "Epoch 61/100\n",
            "17/17 [==============================] - 2s 115ms/step - loss: 0.6662 - accuracy: 0.7907 - val_loss: 0.8052 - val_accuracy: 0.6750\n",
            "Epoch 62/100\n",
            "17/17 [==============================] - 2s 114ms/step - loss: 0.6578 - accuracy: 0.7963 - val_loss: 0.8005 - val_accuracy: 0.6750\n",
            "Epoch 63/100\n",
            "17/17 [==============================] - 2s 112ms/step - loss: 0.6500 - accuracy: 0.7963 - val_loss: 0.7954 - val_accuracy: 0.6750\n",
            "Epoch 64/100\n",
            "17/17 [==============================] - 2s 111ms/step - loss: 0.6425 - accuracy: 0.7972 - val_loss: 0.7918 - val_accuracy: 0.6750\n",
            "Epoch 65/100\n",
            "17/17 [==============================] - 2s 111ms/step - loss: 0.6355 - accuracy: 0.7963 - val_loss: 0.7866 - val_accuracy: 0.6833\n",
            "Epoch 66/100\n",
            "17/17 [==============================] - 2s 112ms/step - loss: 0.6278 - accuracy: 0.7981 - val_loss: 0.7821 - val_accuracy: 0.6917\n",
            "Epoch 67/100\n",
            "17/17 [==============================] - 2s 111ms/step - loss: 0.6202 - accuracy: 0.8000 - val_loss: 0.7782 - val_accuracy: 0.6833\n",
            "Epoch 68/100\n",
            "17/17 [==============================] - 2s 112ms/step - loss: 0.6132 - accuracy: 0.8028 - val_loss: 0.7744 - val_accuracy: 0.6833\n",
            "Epoch 69/100\n",
            "17/17 [==============================] - 2s 112ms/step - loss: 0.6065 - accuracy: 0.8065 - val_loss: 0.7704 - val_accuracy: 0.6917\n",
            "Epoch 70/100\n",
            "17/17 [==============================] - 2s 112ms/step - loss: 0.5999 - accuracy: 0.8083 - val_loss: 0.7667 - val_accuracy: 0.6833\n",
            "Epoch 71/100\n",
            "17/17 [==============================] - 2s 112ms/step - loss: 0.5936 - accuracy: 0.8102 - val_loss: 0.7628 - val_accuracy: 0.6917\n",
            "Epoch 72/100\n",
            "17/17 [==============================] - 2s 111ms/step - loss: 0.5869 - accuracy: 0.8139 - val_loss: 0.7597 - val_accuracy: 0.6833\n",
            "Epoch 73/100\n",
            "17/17 [==============================] - 2s 113ms/step - loss: 0.5809 - accuracy: 0.8139 - val_loss: 0.7559 - val_accuracy: 0.6917\n",
            "Epoch 74/100\n",
            "17/17 [==============================] - 2s 112ms/step - loss: 0.5743 - accuracy: 0.8148 - val_loss: 0.7513 - val_accuracy: 0.6833\n",
            "Epoch 75/100\n",
            "17/17 [==============================] - 2s 111ms/step - loss: 0.5683 - accuracy: 0.8213 - val_loss: 0.7471 - val_accuracy: 0.6833\n",
            "Epoch 76/100\n",
            "17/17 [==============================] - 2s 113ms/step - loss: 0.5615 - accuracy: 0.8231 - val_loss: 0.7428 - val_accuracy: 0.6833\n",
            "Epoch 77/100\n",
            "17/17 [==============================] - 2s 112ms/step - loss: 0.5560 - accuracy: 0.8213 - val_loss: 0.7396 - val_accuracy: 0.6833\n",
            "Epoch 78/100\n",
            "17/17 [==============================] - 2s 113ms/step - loss: 0.5498 - accuracy: 0.8250 - val_loss: 0.7356 - val_accuracy: 0.6750\n",
            "Epoch 79/100\n",
            "17/17 [==============================] - 2s 113ms/step - loss: 0.5448 - accuracy: 0.8269 - val_loss: 0.7320 - val_accuracy: 0.6750\n",
            "Epoch 80/100\n",
            "17/17 [==============================] - 2s 115ms/step - loss: 0.5388 - accuracy: 0.8306 - val_loss: 0.7302 - val_accuracy: 0.6667\n",
            "Epoch 81/100\n",
            "17/17 [==============================] - 2s 113ms/step - loss: 0.5335 - accuracy: 0.8296 - val_loss: 0.7255 - val_accuracy: 0.6917\n",
            "Epoch 82/100\n",
            "17/17 [==============================] - 2s 113ms/step - loss: 0.5278 - accuracy: 0.8315 - val_loss: 0.7227 - val_accuracy: 0.6833\n",
            "Epoch 83/100\n",
            "17/17 [==============================] - 2s 113ms/step - loss: 0.5226 - accuracy: 0.8315 - val_loss: 0.7186 - val_accuracy: 0.6917\n",
            "Epoch 84/100\n",
            "17/17 [==============================] - 2s 113ms/step - loss: 0.5162 - accuracy: 0.8361 - val_loss: 0.7169 - val_accuracy: 0.6833\n",
            "Epoch 85/100\n",
            "17/17 [==============================] - 2s 114ms/step - loss: 0.5120 - accuracy: 0.8352 - val_loss: 0.7150 - val_accuracy: 0.6833\n",
            "Epoch 86/100\n",
            "17/17 [==============================] - 2s 115ms/step - loss: 0.5063 - accuracy: 0.8389 - val_loss: 0.7114 - val_accuracy: 0.6833\n",
            "Epoch 87/100\n",
            "17/17 [==============================] - 2s 114ms/step - loss: 0.5021 - accuracy: 0.8417 - val_loss: 0.7080 - val_accuracy: 0.6833\n",
            "Epoch 88/100\n",
            "17/17 [==============================] - 2s 113ms/step - loss: 0.4963 - accuracy: 0.8454 - val_loss: 0.7052 - val_accuracy: 0.6917\n",
            "Epoch 89/100\n",
            "17/17 [==============================] - 2s 114ms/step - loss: 0.4913 - accuracy: 0.8463 - val_loss: 0.7037 - val_accuracy: 0.6917\n",
            "Epoch 90/100\n",
            "17/17 [==============================] - 2s 113ms/step - loss: 0.4872 - accuracy: 0.8481 - val_loss: 0.7001 - val_accuracy: 0.7000\n",
            "Epoch 91/100\n",
            "17/17 [==============================] - 2s 114ms/step - loss: 0.4820 - accuracy: 0.8491 - val_loss: 0.6968 - val_accuracy: 0.6917\n",
            "Epoch 92/100\n",
            "17/17 [==============================] - 2s 114ms/step - loss: 0.4776 - accuracy: 0.8519 - val_loss: 0.6956 - val_accuracy: 0.7000\n",
            "Epoch 93/100\n",
            "17/17 [==============================] - 2s 114ms/step - loss: 0.4730 - accuracy: 0.8537 - val_loss: 0.6926 - val_accuracy: 0.6917\n",
            "Epoch 94/100\n",
            "17/17 [==============================] - 2s 116ms/step - loss: 0.4688 - accuracy: 0.8537 - val_loss: 0.6885 - val_accuracy: 0.7000\n",
            "Epoch 95/100\n",
            "17/17 [==============================] - 2s 118ms/step - loss: 0.4641 - accuracy: 0.8556 - val_loss: 0.6862 - val_accuracy: 0.6917\n",
            "Epoch 96/100\n",
            "17/17 [==============================] - 2s 115ms/step - loss: 0.4604 - accuracy: 0.8565 - val_loss: 0.6826 - val_accuracy: 0.6917\n",
            "Epoch 97/100\n",
            "17/17 [==============================] - 2s 118ms/step - loss: 0.4553 - accuracy: 0.8593 - val_loss: 0.6807 - val_accuracy: 0.6917\n",
            "Epoch 98/100\n",
            "17/17 [==============================] - 2s 118ms/step - loss: 0.4514 - accuracy: 0.8583 - val_loss: 0.6761 - val_accuracy: 0.7000\n",
            "Epoch 99/100\n",
            "17/17 [==============================] - 2s 115ms/step - loss: 0.4463 - accuracy: 0.8620 - val_loss: 0.6746 - val_accuracy: 0.7083\n",
            "Epoch 100/100\n",
            "17/17 [==============================] - 2s 115ms/step - loss: 0.4427 - accuracy: 0.8639 - val_loss: 0.6722 - val_accuracy: 0.7083\n"
          ]
        }
      ],
      "source": [
        "train_dataset = tf.data.Dataset.from_tensor_slices((X_train, Y_train)).batch(64)\n",
        "test_dataset = tf.data.Dataset.from_tensor_slices((X_test, Y_test)).batch(64)\n",
        "history = conv_model.fit(train_dataset, epochs=100, validation_data=test_dataset)"
      ]
    },
    {
      "cell_type": "markdown",
      "metadata": {
        "id": "96J1JMF6kya-"
      },
      "source": [
        "<a name='5'></a>\n",
        "## 5 - History Object \n",
        "\n",
        "The history object is an output of the `.fit()` operation, and provides a record of all the loss and metric values in memory. It's stored as a dictionary that you can retrieve at `history.history`: "
      ]
    },
    {
      "cell_type": "code",
      "execution_count": 16,
      "metadata": {
        "colab": {
          "base_uri": "https://localhost:8080/"
        },
        "id": "zgp72R9vkya-",
        "outputId": "4d46ebf2-467a-4a2c-c82c-f3c113e8ff78"
      },
      "outputs": [
        {
          "output_type": "execute_result",
          "data": {
            "text/plain": [
              "{'accuracy': [0.17129629850387573,\n",
              "  0.19907407462596893,\n",
              "  0.18333333730697632,\n",
              "  0.2203703671693802,\n",
              "  0.25,\n",
              "  0.2935185134410858,\n",
              "  0.3212963044643402,\n",
              "  0.364814817905426,\n",
              "  0.3759259283542633,\n",
              "  0.3888888955116272,\n",
              "  0.4046296179294586,\n",
              "  0.4157407283782959,\n",
              "  0.4305555522441864,\n",
              "  0.43703705072402954,\n",
              "  0.4611110985279083,\n",
              "  0.46574074029922485,\n",
              "  0.46481481194496155,\n",
              "  0.47777777910232544,\n",
              "  0.4861111044883728,\n",
              "  0.5009258985519409,\n",
              "  0.5157407522201538,\n",
              "  0.5342592597007751,\n",
              "  0.5425925850868225,\n",
              "  0.5620370507240295,\n",
              "  0.5685185194015503,\n",
              "  0.5759259462356567,\n",
              "  0.5972222089767456,\n",
              "  0.6018518805503845,\n",
              "  0.614814817905426,\n",
              "  0.6185185313224792,\n",
              "  0.6259258985519409,\n",
              "  0.6370370388031006,\n",
              "  0.6472222208976746,\n",
              "  0.6564815044403076,\n",
              "  0.664814829826355,\n",
              "  0.6768518686294556,\n",
              "  0.6861110925674438,\n",
              "  0.6935185194015503,\n",
              "  0.6972222328186035,\n",
              "  0.7018518447875977,\n",
              "  0.7120370268821716,\n",
              "  0.7157407402992249,\n",
              "  0.7175925970077515,\n",
              "  0.7250000238418579,\n",
              "  0.729629635810852,\n",
              "  0.7351852059364319,\n",
              "  0.7361111044883728,\n",
              "  0.7444444298744202,\n",
              "  0.7425925731658936,\n",
              "  0.7509258985519409,\n",
              "  0.7555555701255798,\n",
              "  0.7620370388031006,\n",
              "  0.7731481194496155,\n",
              "  0.7749999761581421,\n",
              "  0.7787036895751953,\n",
              "  0.7777777910232544,\n",
              "  0.7833333611488342,\n",
              "  0.7851851582527161,\n",
              "  0.7870370149612427,\n",
              "  0.7916666865348816,\n",
              "  0.7907407283782959,\n",
              "  0.7962962985038757,\n",
              "  0.7962962985038757,\n",
              "  0.7972221970558167,\n",
              "  0.7962962985038757,\n",
              "  0.7981481552124023,\n",
              "  0.800000011920929,\n",
              "  0.8027777671813965,\n",
              "  0.8064814805984497,\n",
              "  0.8083333373069763,\n",
              "  0.8101851940155029,\n",
              "  0.8138889074325562,\n",
              "  0.8138889074325562,\n",
              "  0.8148148059844971,\n",
              "  0.8212962746620178,\n",
              "  0.8231481313705444,\n",
              "  0.8212962746620178,\n",
              "  0.824999988079071,\n",
              "  0.8268518447875977,\n",
              "  0.8305555582046509,\n",
              "  0.8296296000480652,\n",
              "  0.8314814567565918,\n",
              "  0.8314814567565918,\n",
              "  0.8361111283302307,\n",
              "  0.835185170173645,\n",
              "  0.8388888835906982,\n",
              "  0.8416666388511658,\n",
              "  0.845370352268219,\n",
              "  0.8462963104248047,\n",
              "  0.8481481671333313,\n",
              "  0.8490740656852722,\n",
              "  0.8518518805503845,\n",
              "  0.8537036776542664,\n",
              "  0.8537036776542664,\n",
              "  0.855555534362793,\n",
              "  0.8564814925193787,\n",
              "  0.8592592477798462,\n",
              "  0.8583333492279053,\n",
              "  0.8620370626449585,\n",
              "  0.8638888597488403],\n",
              " 'loss': [1.828980565071106,\n",
              "  1.7939763069152832,\n",
              "  1.7873739004135132,\n",
              "  1.7801513671875,\n",
              "  1.773587942123413,\n",
              "  1.7651818990707397,\n",
              "  1.7557203769683838,\n",
              "  1.7443451881408691,\n",
              "  1.7298405170440674,\n",
              "  1.7112830877304077,\n",
              "  1.6914702653884888,\n",
              "  1.6666126251220703,\n",
              "  1.6370344161987305,\n",
              "  1.6039140224456787,\n",
              "  1.5680875778198242,\n",
              "  1.530227780342102,\n",
              "  1.4928773641586304,\n",
              "  1.4554871320724487,\n",
              "  1.4188077449798584,\n",
              "  1.38240385055542,\n",
              "  1.3477885723114014,\n",
              "  1.3144572973251343,\n",
              "  1.2814174890518188,\n",
              "  1.249361515045166,\n",
              "  1.2208529710769653,\n",
              "  1.1876155138015747,\n",
              "  1.1578497886657715,\n",
              "  1.1326173543930054,\n",
              "  1.1049162149429321,\n",
              "  1.0781481266021729,\n",
              "  1.0530942678451538,\n",
              "  1.0249340534210205,\n",
              "  1.001240849494934,\n",
              "  0.9801128506660461,\n",
              "  0.9588333964347839,\n",
              "  0.9418724775314331,\n",
              "  0.9227202534675598,\n",
              "  0.9064292907714844,\n",
              "  0.891097366809845,\n",
              "  0.877220094203949,\n",
              "  0.8615540862083435,\n",
              "  0.8497099280357361,\n",
              "  0.8379438519477844,\n",
              "  0.8264427185058594,\n",
              "  0.8143516778945923,\n",
              "  0.8038553595542908,\n",
              "  0.7925457954406738,\n",
              "  0.7826616168022156,\n",
              "  0.7736980319023132,\n",
              "  0.7635164856910706,\n",
              "  0.754037618637085,\n",
              "  0.7437294721603394,\n",
              "  0.734191358089447,\n",
              "  0.725580096244812,\n",
              "  0.716389000415802,\n",
              "  0.707965612411499,\n",
              "  0.6991603970527649,\n",
              "  0.6908673048019409,\n",
              "  0.6822778582572937,\n",
              "  0.6737810373306274,\n",
              "  0.6662011742591858,\n",
              "  0.6577877402305603,\n",
              "  0.6500489115715027,\n",
              "  0.6424752473831177,\n",
              "  0.6355078816413879,\n",
              "  0.6278094053268433,\n",
              "  0.6202263236045837,\n",
              "  0.6132038235664368,\n",
              "  0.6064537167549133,\n",
              "  0.5998831391334534,\n",
              "  0.593600869178772,\n",
              "  0.5869405269622803,\n",
              "  0.5808982253074646,\n",
              "  0.574307918548584,\n",
              "  0.568277895450592,\n",
              "  0.561523973941803,\n",
              "  0.5560495853424072,\n",
              "  0.5497757792472839,\n",
              "  0.5447515249252319,\n",
              "  0.5387626886367798,\n",
              "  0.5334613919258118,\n",
              "  0.5277661085128784,\n",
              "  0.522643506526947,\n",
              "  0.5161632895469666,\n",
              "  0.512036144733429,\n",
              "  0.5062569975852966,\n",
              "  0.5020663738250732,\n",
              "  0.4962960183620453,\n",
              "  0.4912843406200409,\n",
              "  0.4871527850627899,\n",
              "  0.48200610280036926,\n",
              "  0.47759586572647095,\n",
              "  0.47302937507629395,\n",
              "  0.46882376074790955,\n",
              "  0.4640842378139496,\n",
              "  0.4604387581348419,\n",
              "  0.4552786350250244,\n",
              "  0.45140182971954346,\n",
              "  0.44627392292022705,\n",
              "  0.44266295433044434],\n",
              " 'val_accuracy': [0.18333333730697632,\n",
              "  0.10833333432674408,\n",
              "  0.14166666567325592,\n",
              "  0.15000000596046448,\n",
              "  0.19166666269302368,\n",
              "  0.22499999403953552,\n",
              "  0.2666666805744171,\n",
              "  0.3166666626930237,\n",
              "  0.3333333432674408,\n",
              "  0.375,\n",
              "  0.38333332538604736,\n",
              "  0.375,\n",
              "  0.3916666805744171,\n",
              "  0.36666667461395264,\n",
              "  0.38333332538604736,\n",
              "  0.38333332538604736,\n",
              "  0.40833333134651184,\n",
              "  0.42500001192092896,\n",
              "  0.4333333373069763,\n",
              "  0.4833333194255829,\n",
              "  0.5083333253860474,\n",
              "  0.5,\n",
              "  0.5249999761581421,\n",
              "  0.5083333253860474,\n",
              "  0.5249999761581421,\n",
              "  0.550000011920929,\n",
              "  0.5583333373069763,\n",
              "  0.5666666626930237,\n",
              "  0.550000011920929,\n",
              "  0.5416666865348816,\n",
              "  0.5583333373069763,\n",
              "  0.574999988079071,\n",
              "  0.5833333134651184,\n",
              "  0.5666666626930237,\n",
              "  0.5916666388511658,\n",
              "  0.574999988079071,\n",
              "  0.5833333134651184,\n",
              "  0.5833333134651184,\n",
              "  0.6083333492279053,\n",
              "  0.6083333492279053,\n",
              "  0.6083333492279053,\n",
              "  0.625,\n",
              "  0.6166666746139526,\n",
              "  0.625,\n",
              "  0.6166666746139526,\n",
              "  0.6333333253860474,\n",
              "  0.625,\n",
              "  0.6333333253860474,\n",
              "  0.625,\n",
              "  0.6333333253860474,\n",
              "  0.6499999761581421,\n",
              "  0.6416666507720947,\n",
              "  0.6666666865348816,\n",
              "  0.6666666865348816,\n",
              "  0.6666666865348816,\n",
              "  0.6666666865348816,\n",
              "  0.6666666865348816,\n",
              "  0.6666666865348816,\n",
              "  0.675000011920929,\n",
              "  0.6833333373069763,\n",
              "  0.675000011920929,\n",
              "  0.675000011920929,\n",
              "  0.675000011920929,\n",
              "  0.675000011920929,\n",
              "  0.6833333373069763,\n",
              "  0.6916666626930237,\n",
              "  0.6833333373069763,\n",
              "  0.6833333373069763,\n",
              "  0.6916666626930237,\n",
              "  0.6833333373069763,\n",
              "  0.6916666626930237,\n",
              "  0.6833333373069763,\n",
              "  0.6916666626930237,\n",
              "  0.6833333373069763,\n",
              "  0.6833333373069763,\n",
              "  0.6833333373069763,\n",
              "  0.6833333373069763,\n",
              "  0.675000011920929,\n",
              "  0.675000011920929,\n",
              "  0.6666666865348816,\n",
              "  0.6916666626930237,\n",
              "  0.6833333373069763,\n",
              "  0.6916666626930237,\n",
              "  0.6833333373069763,\n",
              "  0.6833333373069763,\n",
              "  0.6833333373069763,\n",
              "  0.6833333373069763,\n",
              "  0.6916666626930237,\n",
              "  0.6916666626930237,\n",
              "  0.699999988079071,\n",
              "  0.6916666626930237,\n",
              "  0.699999988079071,\n",
              "  0.6916666626930237,\n",
              "  0.699999988079071,\n",
              "  0.6916666626930237,\n",
              "  0.6916666626930237,\n",
              "  0.6916666626930237,\n",
              "  0.699999988079071,\n",
              "  0.7083333134651184,\n",
              "  0.7083333134651184],\n",
              " 'val_loss': [1.8019052743911743,\n",
              "  1.7946701049804688,\n",
              "  1.7876956462860107,\n",
              "  1.7803504467010498,\n",
              "  1.7743486166000366,\n",
              "  1.7667325735092163,\n",
              "  1.7574574947357178,\n",
              "  1.747238039970398,\n",
              "  1.733784794807434,\n",
              "  1.7172973155975342,\n",
              "  1.6980870962142944,\n",
              "  1.6760157346725464,\n",
              "  1.6506884098052979,\n",
              "  1.6219887733459473,\n",
              "  1.5940793752670288,\n",
              "  1.5597259998321533,\n",
              "  1.529862642288208,\n",
              "  1.4966148138046265,\n",
              "  1.4637986421585083,\n",
              "  1.4273247718811035,\n",
              "  1.3936413526535034,\n",
              "  1.3582539558410645,\n",
              "  1.3236281871795654,\n",
              "  1.2913744449615479,\n",
              "  1.2586133480072021,\n",
              "  1.2271461486816406,\n",
              "  1.1951754093170166,\n",
              "  1.1651175022125244,\n",
              "  1.1414893865585327,\n",
              "  1.1141258478164673,\n",
              "  1.0929625034332275,\n",
              "  1.0747854709625244,\n",
              "  1.0511430501937866,\n",
              "  1.0370330810546875,\n",
              "  1.0197479724884033,\n",
              "  1.0025334358215332,\n",
              "  0.9895005822181702,\n",
              "  0.9771624803543091,\n",
              "  0.9673716425895691,\n",
              "  0.9535512328147888,\n",
              "  0.9447478652000427,\n",
              "  0.93659508228302,\n",
              "  0.9299764037132263,\n",
              "  0.9185552000999451,\n",
              "  0.913461446762085,\n",
              "  0.9036230444908142,\n",
              "  0.8970651626586914,\n",
              "  0.8892279267311096,\n",
              "  0.8817975521087646,\n",
              "  0.8726218938827515,\n",
              "  0.8667404055595398,\n",
              "  0.8577583432197571,\n",
              "  0.8526245355606079,\n",
              "  0.8442335724830627,\n",
              "  0.8401352167129517,\n",
              "  0.831903338432312,\n",
              "  0.8279416561126709,\n",
              "  0.8209037780761719,\n",
              "  0.8155223727226257,\n",
              "  0.8100564479827881,\n",
              "  0.8052374720573425,\n",
              "  0.8004959225654602,\n",
              "  0.7954182028770447,\n",
              "  0.7918238043785095,\n",
              "  0.7865784764289856,\n",
              "  0.7820813655853271,\n",
              "  0.7782160639762878,\n",
              "  0.7743517756462097,\n",
              "  0.7703601717948914,\n",
              "  0.7667354345321655,\n",
              "  0.7627974152565002,\n",
              "  0.7596701383590698,\n",
              "  0.7558876276016235,\n",
              "  0.751329779624939,\n",
              "  0.7471315860748291,\n",
              "  0.7427964806556702,\n",
              "  0.7396232485771179,\n",
              "  0.7356386780738831,\n",
              "  0.7320226430892944,\n",
              "  0.7301701307296753,\n",
              "  0.7255295515060425,\n",
              "  0.7226697206497192,\n",
              "  0.7186456322669983,\n",
              "  0.7168605923652649,\n",
              "  0.7150129079818726,\n",
              "  0.7114208340644836,\n",
              "  0.7080093026161194,\n",
              "  0.7052351832389832,\n",
              "  0.7037496566772461,\n",
              "  0.7001259922981262,\n",
              "  0.696810781955719,\n",
              "  0.6956418752670288,\n",
              "  0.6926468014717102,\n",
              "  0.6885088682174683,\n",
              "  0.6862340569496155,\n",
              "  0.6826476454734802,\n",
              "  0.680721640586853,\n",
              "  0.6761431097984314,\n",
              "  0.6746004819869995,\n",
              "  0.6722047328948975]}"
            ]
          },
          "metadata": {},
          "execution_count": 16
        }
      ],
      "source": [
        "history.history"
      ]
    },
    {
      "cell_type": "markdown",
      "metadata": {
        "id": "c486BDtmkya-"
      },
      "source": [
        "Now visualize the loss over time using `history.history`: "
      ]
    },
    {
      "cell_type": "code",
      "execution_count": 17,
      "metadata": {
        "colab": {
          "base_uri": "https://localhost:8080/",
          "height": 1000
        },
        "id": "SO9NVjpckya-",
        "outputId": "3bb0fa23-212b-449e-fd8b-532c58213528"
      },
      "outputs": [
        {
          "output_type": "stream",
          "name": "stderr",
          "text": [
            "/usr/local/lib/python3.7/dist-packages/pandas/core/frame.py:4308: SettingWithCopyWarning: \n",
            "A value is trying to be set on a copy of a slice from a DataFrame\n",
            "\n",
            "See the caveats in the documentation: https://pandas.pydata.org/pandas-docs/stable/user_guide/indexing.html#returning-a-view-versus-a-copy\n",
            "  errors=errors,\n"
          ]
        },
        {
          "output_type": "execute_result",
          "data": {
            "text/plain": [
              "[Text(0, 0.5, 'Accuracy'), Text(0.5, 0, 'Epoch')]"
            ]
          },
          "metadata": {},
          "execution_count": 17
        },
        {
          "output_type": "display_data",
          "data": {
            "image/png": "[encoded data removed]",
            "text/plain": [
              "<Figure size 864x576 with 1 Axes>"
            ]
          },
          "metadata": {
            "needs_background": "light"
          }
        },
        {
          "output_type": "display_data",
          "data": {
            "image/png": "[encoded data removed]",
            "text/plain": [
              "<Figure size 864x576 with 1 Axes>"
            ]
          },
          "metadata": {
            "needs_background": "light"
          }
        }
      ],
      "source": [
        "# The history.history[\"loss\"] entry is a dictionary with as many values as epochs that the\n",
        "# model was trained on. \n",
        "df_loss_acc = pd.DataFrame(history.history)\n",
        "df_loss= df_loss_acc[['loss','val_loss']]\n",
        "df_loss.rename(columns={'loss':'train','val_loss':'validation'},inplace=True)\n",
        "df_acc= df_loss_acc[['accuracy','val_accuracy']]\n",
        "df_acc.rename(columns={'accuracy':'train','val_accuracy':'validation'},inplace=True)\n",
        "df_loss.plot(title='Model loss',figsize=(12,8)).set(xlabel='Epoch',ylabel='Loss')\n",
        "df_acc.plot(title='Model Accuracy',figsize=(12,8)).set(xlabel='Epoch',ylabel='Accuracy')"
      ]
    },
    {
      "cell_type": "markdown",
      "metadata": {
        "id": "3odo92dwkya_"
      },
      "source": [
        "**Congratulations**! You've finished the assignment and built two models: One that recognizes  smiles, and another that recognizes SIGN language with almost 80% accuracy on the test set. In addition to that, you now also understand the applications of two Keras APIs: Sequential and Functional. Nicely done! \n",
        "\n",
        "By now, you know a bit about how the Functional API works and may have glimpsed the possibilities. In your next assignment, you'll really get a feel for its power when you get the opportunity to build a very deep ConvNet, using ResNets! "
      ]
    },
    {
      "cell_type": "markdown",
      "metadata": {
        "id": "fglxSmS4kya_"
      },
      "source": [
        "<a name='6'></a>\n",
        "## 6 - Bibliography\n",
        "\n",
        "You're always encouraged to read the official documentation. To that end, you can find the docs for the Sequential and Functional APIs here: \n",
        "\n",
        "https://www.tensorflow.org/guide/keras/sequential_model\n",
        "\n",
        "https://www.tensorflow.org/guide/keras/functional"
      ]
    }
  ],
  "metadata": {
    "coursera": {
      "course_slug": "convolutional-neural-networks",
      "graded_item_id": "bwbJV",
      "launcher_item_id": "0TkXB"
    },
    "kernelspec": {
      "display_name": "Python 3",
      "language": "python",
      "name": "python3"
    },
    "language_info": {
      "codemirror_mode": {
        "name": "ipython",
        "version": 3
      },
      "file_extension": ".py",
      "mimetype": "text/x-python",
      "name": "python",
      "nbconvert_exporter": "python",
      "pygments_lexer": "ipython3",
      "version": "3.8.5"
    },
    "colab": {
      "name": "Convolution_model_Application.ipynb",
      "provenance": [],
      "include_colab_link": true
    }
  },
  "nbformat": 4,
  "nbformat_minor": 0
}